{
 "cells": [
  {
   "cell_type": "code",
   "execution_count": null,
   "metadata": {},
   "outputs": [],
   "source": [
    "# In this notebook we use Fourier inference to infer the heat kernel from a set of time-localized samples.\n",
    "import numpy as np\n",
    "from fourier import compute_fourier_coeff, get_fourier_coeffs\n",
    "from target_signals import  compute_heat_kernel\n",
    "from generate_input_signals import generate_time_localized_samples\n",
    "from fourier_inference import  compute_prediction\n",
    "\n",
    "import matplotlib.pyplot as plt"
   ]
  },
  {
   "cell_type": "code",
   "execution_count": null,
   "metadata": {},
   "outputs": [],
   "source": [
    "seed = 42  # or any integer of choice\n",
    "rng = np.random.default_rng(seed)"
   ]
  },
  {
   "cell_type": "code",
   "execution_count": null,
   "metadata": {},
   "outputs": [],
   "source": [
    "# Number of input functions\n",
    "num_samples = 15\n",
    "\n",
    "grid_size = 2**11 # grid points\n",
    "\n",
    "t_left = -30\n",
    "t_right = 30   # time interval\n",
    "\n",
    "time_span = t_right - t_left\n",
    "\n",
    "time_array = np.linspace(t_left,t_right,grid_size)\n",
    "noise = .001 # noise level in the data\n",
    "freqs = np.fft.fftfreq(grid_size, time_span / grid_size)\n",
    "\n",
    "\n",
    "t_fix= 3\n"
   ]
  },
  {
   "cell_type": "code",
   "execution_count": null,
   "metadata": {},
   "outputs": [],
   "source": [
    "target = compute_heat_kernel(time_array, t_fix)\n",
    "target_coeff = compute_fourier_coeff(target, time_span)"
   ]
  },
  {
   "cell_type": "code",
   "execution_count": null,
   "metadata": {},
   "outputs": [],
   "source": [
    "#plot the target function\n",
    "plt.plot(time_array, target, label='Target function')\n",
    "plt.plot(time_array, target + noise * rng.normal(size=grid_size), label='Noisy target function')\n",
    "plt.title('Heat kernel (target) function')"
   ]
  },
  {
   "cell_type": "code",
   "execution_count": null,
   "metadata": {},
   "outputs": [],
   "source": [
    "#Choose a kernel \n",
    "\n",
    "kernel_decay =  2 # decay rate of the  complex exponential kernel   \n",
    "b = 1.5 # scale of the complex exponential kernel\n",
    "kernel_coeff = get_fourier_coeffs(kernel_decay, time_span, grid_size, c0=(b-1)/(b+1), scale=(b-1)/(b+1))\n",
    "\n",
    "# from kernels import dirichlet_kernel\n",
    "# kernel= dirichlet_kernel(time_array, 1)\n",
    "# kernel_coeff = compute_fourier_coeff(kernel, time_span)\n",
    "\n",
    "\n",
    "# or other kernel??"
   ]
  },
  {
   "cell_type": "code",
   "execution_count": null,
   "metadata": {},
   "outputs": [],
   "source": [
    "# Input functions \n",
    "delta_small = .5\n",
    "delta_big = 5\n",
    "X_delta_small = generate_time_localized_samples(num_samples, time_array, delta_small, shift_center=0., std=1.96,rng=rng) \n",
    "X_delta_small_fourier = compute_fourier_coeff(X_delta_small, time_span)\n",
    "\n",
    "X_delta_big = generate_time_localized_samples(num_samples, time_array, delta_big, shift_center=0., std=1.96,rng=rng)\n",
    "X_delta_big_fourier = compute_fourier_coeff(X_delta_big, time_span)"
   ]
  },
  {
   "cell_type": "code",
   "execution_count": null,
   "metadata": {},
   "outputs": [],
   "source": [
    "#plot the input signals\n",
    "plt.plot(time_array, X_delta_big, alpha=0.5, label='Input functions');"
   ]
  },
  {
   "cell_type": "code",
   "execution_count": null,
   "metadata": {},
   "outputs": [],
   "source": [
    "# run inference for time-localized signals, for both values of delta \n",
    "_, heat_kernel_prediction_delta_small = compute_prediction(\n",
    "    num_samples=num_samples,\n",
    "    time_array=time_array,\n",
    "    time_span=time_span,\n",
    "    kernel_coeff=kernel_coeff,\n",
    "    target_coeff=target_coeff,\n",
    "    noise=noise,\n",
    "    X_fourier=X_delta_small_fourier,\n",
    "    lamb=None,\n",
    "    optimize_lambda=True             # set right interval for grid search on lambda! 10-5 or 10-4 as k_min\n",
    ")\n",
    "\n",
    "_, heat_kernel_prediction_delta_big = compute_prediction(\n",
    "    num_samples=num_samples,\n",
    "    time_array=time_array,\n",
    "    time_span=time_span,\n",
    "    kernel_coeff=kernel_coeff,\n",
    "    target_coeff=target_coeff,\n",
    "    noise=noise,\n",
    "    X_fourier= X_delta_big_fourier,\n",
    "    lamb=None,\n",
    "    optimize_lambda=True         # set right interval for grid search on lambda! 10-5 or 10-4 as k_min\n",
    ")"
   ]
  },
  {
   "cell_type": "markdown",
   "metadata": {},
   "source": [
    "### Plotting\n"
   ]
  },
  {
   "cell_type": "code",
   "execution_count": null,
   "metadata": {},
   "outputs": [],
   "source": [
    "import matplotlib.pyplot as plt\n",
    "import numpy as np\n",
    "%matplotlib inline\n",
    "%config InlineBackend.figure_format='retina'\n",
    "\n",
    "from tueplots import  bundles, cycler\n",
    "from tueplots.constants.color import palettes\n",
    "from tueplots import figsizes, fontsizes\n",
    "\n",
    "plt.rcParams.update({\"figure.dpi\": 250})\n",
    "plt.rcParams.update(bundles.neurips2023(rel_width=.5))\n",
    "plt.rcParams.update(cycler.cycler(color=palettes.tue_plot))\n",
    "plt.rcParams.update(cycler.cycler(color=palettes.tue_plot))\n",
    "\n",
    "#define colors\n",
    "dark = np.array([51.0, 51.0, 51.0]) / 255.0\n",
    "gold = np.array([174.0, 159.0, 109.0]) / 255.0\n",
    "\n",
    "my_blue= np.array([117,107,177]) / 255.0\n",
    "my_orange = np.array([217,95,2]) / 300.0\n",
    "\n"
   ]
  },
  {
   "cell_type": "code",
   "execution_count": null,
   "metadata": {},
   "outputs": [],
   "source": [
    "fig, ax = plt.subplots(1, )\n",
    "ax.plot(time_array, heat_kernel_prediction_delta_big, color = my_blue, label='$\\delta=5$')\n",
    "ax.plot(time_array, heat_kernel_prediction_delta_small,  color = my_orange, label='$\\delta=0.5$')\n",
    "ax.plot(time_array, target,  color = dark, linewidth =.7, label='$H(x,t_*)$')\n",
    "ax.set_title('Heat kernel approximation')\n",
    "ax.legend()\n",
    "# plt.savefig('../results/heat_kernel_approximation.pdf', bbox_inches='tight')"
   ]
  },
  {
   "cell_type": "code",
   "execution_count": null,
   "metadata": {},
   "outputs": [],
   "source": [
    "# two subplots, one with the convolution matrx of the prediction and one with its circulant matrix\n",
    "from convolution_matrices import toeplix_matrix, circulant_convolution_matrix\n",
    "fig, ax = plt.subplots(1, 2)\n",
    "ax[1].imshow(circulant_convolution_matrix(heat_kernel_prediction_delta_small), cmap ='Oranges', origin='upper')\n",
    "ax[1].set_title('$\\delta=0.5$')\n",
    "ax[0].imshow(circulant_convolution_matrix(heat_kernel_prediction_delta_big), cmap ='Purples', origin='upper')\n",
    "ax[0].set_title('$\\delta=5$')\n",
    "ax[1].set_xticks([])\n",
    "ax[1].set_yticks([])\n",
    "\n",
    "ax[0].set_xticks([])\n",
    "ax[0].set_yticks([])\n",
    "\n",
    "ax[0].set_xlabel(r'$x$')\n",
    "ax[0].set_ylabel(r'$y$')\n",
    "\n",
    "ax[1].set_xlabel(r'$x$')\n",
    "ax[1].set_ylabel(r'$y$')\n",
    "# plt.savefig('../results/convolution_matrices.pdf', bbox_inches='tight')\n"
   ]
  },
  {
   "cell_type": "code",
   "execution_count": null,
   "metadata": {},
   "outputs": [],
   "source": [
    "#plot toeplitz matrix\n",
    "fig, ax = plt.subplots(1, 2)\n",
    "ax[0].imshow(toeplix_matrix(heat_kernel_prediction_delta_small), cmap ='Oranges', origin='upper')\n",
    "ax[0].set_title('$\\delta=0.5$')\n",
    "ax[1].imshow(toeplix_matrix(heat_kernel_prediction_delta_big), cmap ='Purples', origin='upper')\n",
    "ax[1].set_title('$\\delta=5$')\n",
    "ax[1].set_xticks([])\n",
    "ax[1].set_yticks([])\n",
    "\n",
    "ax[0].set_xticks([])\n",
    "ax[0].set_yticks([])\n",
    "\n",
    "ax[0].set_xlabel(r'$x$')\n",
    "ax[0].set_ylabel(r'$y$')\n",
    "\n",
    "ax[1].set_xlabel(r'$x$')\n",
    "ax[1].set_ylabel(r'$y$')\n",
    "\n"
   ]
  },
  {
   "cell_type": "code",
   "execution_count": null,
   "metadata": {},
   "outputs": [],
   "source": []
  }
 ],
 "metadata": {
  "kernelspec": {
   "display_name": "conv",
   "language": "python",
   "name": "python3"
  },
  "language_info": {
   "codemirror_mode": {
    "name": "ipython",
    "version": 3
   },
   "file_extension": ".py",
   "mimetype": "text/x-python",
   "name": "python",
   "nbconvert_exporter": "python",
   "pygments_lexer": "ipython3",
   "version": "3.11.5"
  }
 },
 "nbformat": 4,
 "nbformat_minor": 2
}
