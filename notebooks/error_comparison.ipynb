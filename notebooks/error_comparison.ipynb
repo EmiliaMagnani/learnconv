{
 "cells": [
  {
   "cell_type": "code",
   "execution_count": 26,
   "metadata": {},
   "outputs": [],
   "source": [
    "import numpy as np\n",
    "from fourier import compute_fourier_coeff\n",
    "from signal_functions import truncated_sine_series, truncated_fourier_series\n",
    "from kernels import complex_exponential_kernel, dirichlet_kernel_shifted\n",
    "from inference_utils import  run_inference_error_time_localized, run_inference_error_frequency_localized\n",
    "from plotting import plot_error_with_std"
   ]
  },
  {
   "cell_type": "code",
   "execution_count": 27,
   "metadata": {},
   "outputs": [],
   "source": [
    "#set random seed for reproducibility\n",
    "seed = 42\n",
    "\n",
    "num_samples = 24   # number of samples\n",
    "num_experiments = 5 # number of experiments when computing the error\n",
    "\n",
    "\n",
    "#time grid \n",
    "grid_size = 2**12 # number of grid points\n",
    "\n",
    "t_left = 0\n",
    "t_right = 1\n",
    "\n",
    "time_span = t_right - t_left\n",
    "\n",
    "time_array = np.linspace(t_left,t_right,grid_size)"
   ]
  },
  {
   "cell_type": "code",
   "execution_count": 28,
   "metadata": {},
   "outputs": [],
   "source": [
    "#parameter for target signal\n",
    "target_decay_rate = 1.1 # decay rate of the target signal\n",
    "noise = .02 # noise level\n"
   ]
  },
  {
   "cell_type": "code",
   "execution_count": 29,
   "metadata": {},
   "outputs": [],
   "source": [
    "# Ground truth function and observation  noise         \n",
    "# y_i = x_i * target + noise, where x_i is the input signal\n",
    "\n",
    "sum_terms_target = 30  # index  of truncation of the fourier series\n",
    "target = truncated_sine_series(\n",
    "    input_points=time_array, decay_rate=target_decay_rate, num_terms=sum_terms_target\n",
    ")\n",
    "\n",
    "##fourier coefficients of w_true\n",
    "target_fourier_coeff = compute_fourier_coeff(\n",
    "    target, time_span\n",
    ")  # normalized by the number of grid points\n",
    "\n",
    "\n",
    "# for freq-loc inputs\n",
    "max_sum_freq_signals = sum_terms_target"
   ]
  },
  {
   "cell_type": "code",
   "execution_count": 30,
   "metadata": {},
   "outputs": [],
   "source": [
    "# the kernel\n",
    "\n",
    "\n",
    "# complex exponential for kernel\n",
    "# kernel_decay_rate =  1.01 # decay rate of the kernel\n",
    "\n",
    "# if kernel_decay_rate <=1 or target_decay_rate<=1:\n",
    "#     raise ValueError(\"kernel_decay_rate and target_decay_rate must be > 1\")\n",
    "\n",
    "\n",
    "#complex exponential kernel\n",
    "# sum_terms_kernel = sum_terms_target\n",
    "# evaluated_kernel = complex_exponential_kernel(time_array, kernel_decay_rate, sum_terms_kernel)\n",
    "\n",
    "#dirichlet kernel\n",
    "order_dirichlet_ker = sum_terms_target\n",
    "evaluated_kernel = dirichlet_kernel_shifted(time_array, order_dirichlet_ker, L=1/2)\n",
    "kernel_decay_rate = 0\n",
    "\n",
    "kernel_coeff = compute_fourier_coeff(evaluated_kernel, time_span)\n",
    "kernel_coeff_abs= np.abs(kernel_coeff)   #TODO why do you need to take abs?\n",
    "# kernel_coeff_abs = np.sqrt(kernel_coeff * np.conj(kernel_coeff) )"
   ]
  },
  {
   "cell_type": "code",
   "execution_count": 31,
   "metadata": {},
   "outputs": [
    {
     "name": "stdout",
     "output_type": "stream",
     "text": [
      "alpha_sup 1\n"
     ]
    }
   ],
   "source": [
    "# time-loc signals\n",
    "loc_parameter = 0.2\n",
    "\n",
    "if kernel_decay_rate == 0:\n",
    "    alpha_sup = 1\n",
    "else:\n",
    "    alpha_sup = (2*target_decay_rate -1 - kernel_decay_rate) / 2*kernel_decay_rate\n",
    "\n",
    "\n",
    "print(\"alpha_sup\" , alpha_sup)\n",
    "alpha_time_loc = .9 * alpha_sup"
   ]
  },
  {
   "cell_type": "code",
   "execution_count": 32,
   "metadata": {},
   "outputs": [],
   "source": [
    "# run inference for time-localized signals\n",
    "pred_fourier_time, error_sampmean_time_loc, error_sampstd_time_loc, error_logmean_time_loc, error_logstdtime_loc = run_inference_error_time_localized(\n",
    "    num_samples=num_samples,\n",
    "    num_experiments=num_experiments,\n",
    "    time_array=time_array,\n",
    "    time_span=time_span,\n",
    "    kernel_coeff= kernel_coeff_abs,\n",
    "    target_fourier_coeff=target_fourier_coeff,\n",
    "    noise=noise,\n",
    "    alpha=alpha_time_loc,\n",
    "    series_truncation=sum_terms_target,\n",
    "    loc_parameter=loc_parameter  # Time-localized parameter\n",
    ")\n"
   ]
  },
  {
   "cell_type": "code",
   "execution_count": 33,
   "metadata": {},
   "outputs": [
    {
     "data": {
      "text/plain": [
       "[<matplotlib.lines.Line2D at 0x7fafd47be390>]"
      ]
     },
     "execution_count": 33,
     "metadata": {},
     "output_type": "execute_result"
    },
    {
     "data": {
      "image/png": "[encoded data removed]",
      "text/plain": [
       "<Figure size 640x480 with 1 Axes>"
      ]
     },
     "metadata": {},
     "output_type": "display_data"
    }
   ],
   "source": [
    "from matplotlib import pyplot as plt\n",
    "#plot pred fourier coefficients and target fourier coefficients\n",
    "plt.plot(np.abs(pred_fourier_time[:sum_terms_target]), '.', label=\"pred\")\n",
    "plt.plot(np.abs(target_fourier_coeff[:sum_terms_target]), '.', label=\"true\")\n",
    "# plt.plot(np.abs(pred_fourier_time) - np.abs(target_fourier_coeff), '.', label=\"error\")"
   ]
  },
  {
   "cell_type": "code",
   "execution_count": null,
   "metadata": {},
   "outputs": [],
   "source": []
  },
  {
   "cell_type": "code",
   "execution_count": 34,
   "metadata": {},
   "outputs": [
    {
     "name": "stdout",
     "output_type": "stream",
     "text": [
      "alpha_sup 0.06000000000000001\n"
     ]
    }
   ],
   "source": [
    "# freq-loc signals \n",
    "\n",
    "freq_max = sum_terms_target\n",
    "freq_loc_inputs_decay = .1  \n",
    "\n",
    "alpha_sup = (2*target_decay_rate -1 - kernel_decay_rate) / 2*(kernel_decay_rate + freq_loc_inputs_decay)\n",
    "\n",
    "print(\"alpha_sup\" , alpha_sup)\n",
    "alpha_freq_loc = .8 * alpha_sup"
   ]
  },
  {
   "cell_type": "code",
   "execution_count": 35,
   "metadata": {},
   "outputs": [],
   "source": [
    "#run inference for frequency-localized signal\n",
    "error_sampmean_freq_loc, error_sampstd_freq_loc, error_logmean_freq_loc, error_logstd_freq_loc = run_inference_error_frequency_localized(\n",
    "    num_samples=num_samples,\n",
    "    num_experiments=num_experiments,\n",
    "    time_array=time_array,\n",
    "    time_span=time_span,\n",
    "    kernel_coeff= kernel_coeff_abs,\n",
    "    target_fourier_coeff=target_fourier_coeff,\n",
    "    noise=noise,\n",
    "    alpha=alpha_freq_loc,\n",
    "    series_truncation=sum_terms_target,\n",
    "    freq_loc_inputs_decay=freq_loc_inputs_decay,\n",
    "    freq_loc_max=freq_max\n",
    ")"
   ]
  },
  {
   "cell_type": "code",
   "execution_count": 36,
   "metadata": {},
   "outputs": [
    {
     "data": {
      "text/plain": [
       "[<matplotlib.lines.Line2D at 0x7fafd4606c10>]"
      ]
     },
     "execution_count": 36,
     "metadata": {},
     "output_type": "execute_result"
    },
    {
     "data": {
      "image/png": "[encoded data removed]",
      "text/plain": [
       "<Figure size 640x480 with 1 Axes>"
      ]
     },
     "metadata": {},
     "output_type": "display_data"
    }
   ],
   "source": [
    "from matplotlib import pyplot as plt\n",
    "plt.plot(np.abs(pred_fourier_freq[:sum_terms_target]), '.', label=\"pred\")\n",
    "plt.plot(np.abs(target_fourier_coeff[:sum_terms_target]), '.', label=\"true\")\n",
    "# plt.plot(np.abs(pred_fourier_freq) - np.abs(target_fourier_coeff), '.', label=\"error\")"
   ]
  },
  {
   "cell_type": "code",
   "execution_count": 37,
   "metadata": {},
   "outputs": [],
   "source": [
    "# plot_error_with_std(num_samples, error_sampmean_freq_loc, error_sampstd_freq_loc)"
   ]
  }
 ],
 "metadata": {
  "kernelspec": {
   "display_name": "conv",
   "language": "python",
   "name": "python3"
  },
  "language_info": {
   "codemirror_mode": {
    "name": "ipython",
    "version": 3
   },
   "file_extension": ".py",
   "mimetype": "text/x-python",
   "name": "python",
   "nbconvert_exporter": "python",
   "pygments_lexer": "ipython3",
   "version": "3.11.5"
  }
 },
 "nbformat": 4,
 "nbformat_minor": 2
}
