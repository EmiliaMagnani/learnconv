{
 "cells": [
  {
   "cell_type": "code",
   "execution_count": 20,
   "metadata": {},
   "outputs": [],
   "source": [
    "import numpy as np\n",
    "import probnum as pn\n",
    "from probnum.randprocs.covfuncs import Matern\n",
    "import matplotlib.pyplot as plt\n",
    "from scipy.linalg import circulant"
   ]
  },
  {
   "cell_type": "markdown",
   "metadata": {},
   "source": [
    "Given data $(X_i, y_i)_{i=1}^N$  with \n",
    "\n",
    "$y_i= X_i w  +\\varepsilon_i \\in \\mathbb{R}^d$  with $\\varepsilon_i$ random vectors (noise) and \n",
    "\n",
    " $X_i \\in \\mathbb{R}^{d\\times d}$ circulant matrices representing discrete circular convolution operators on vectors\n",
    "\n",
    "here we consider \n",
    "\n",
    "$$\n",
    "\\hat{w}_\\lambda =\\arg\\min_{w\\in \\mathcal{H}} \\frac 1 N \\sum_{i=1}^N \\left\\lVert X_i  w - y_i\\right\\lVert_{\\mathbb{R}^d}^2+\\lambda \\left\\lVert w \\right\\lVert_\\mathcal{H}^2, \\quad \\quad \\lambda>0 \n",
    "$$\n",
    "\n",
    "where $\\mathcal{H} \\subset \\mathbb{R}^d$ is RKHS, and implement\n",
    "$$\n",
    "\\hat{w}_\\lambda = S^\\ast ( S S^\\ast + \\lambda I) ^{-1} Y\n",
    "$$\n",
    "\n",
    "where $S$ is the sampling operator."
   ]
  },
  {
   "cell_type": "code",
   "execution_count": 21,
   "metadata": {},
   "outputs": [],
   "source": [
    "#Inference functions \n",
    "\n",
    "\n",
    "def S_star_operator(Y, X ,ker_mat, t_right, t_left, N, d):\n",
    "    \n",
    "    S_star = ker_mat.T @ sum(X[i].T @ Y[:,i] for i in range(N)) *( (t_right-t_left)/(N*d) )\n",
    "    \n",
    "    return S_star\n",
    "\n",
    "\n",
    "def S_S_star_matrix(Y, X ,ker_mat, t_right, t_left, N, d):\n",
    "    \n",
    "    # this is a tensor reshaped in the appropriate form to be able to compute the inverse in the inference \n",
    "    \n",
    "    SS_star_tensor = np.zeros((N,N,d,d))\n",
    "    \n",
    "    for i in range(0,N):\n",
    "        for j in range(0,N):\n",
    "            SS_star_tensor[i,j,:,:] = X[i] @ ker_mat @ X[j].T\n",
    "            \n",
    "    SS_star_mat = SS_star_tensor.swapaxes(1,2).reshape(d*N,d*N) *( (t_right-t_left)/(N*d) )\n",
    "    \n",
    "    return SS_star_mat \n",
    "\n",
    "def Kronecker_mat_regul(lam,N,d):\n",
    "\n",
    "    Sigma_Kron = pn.linops.Kronecker(\n",
    "        A = (lam) * np.eye(N,N),\n",
    "        B = np.eye(d,d)\n",
    "        )    # (dF x dF)\n",
    "    return Sigma_Kron\n",
    "\n",
    "\n",
    "def S_star_operator_for_cov(XK, X, k, N, h ):\n",
    "\n",
    "    S_star =   sum(k @ X[i].T @ XK[i,:,:] for i in range(N)) * (h / N)\n",
    "    \n",
    "    return S_star\n",
    "\n",
    "def Kronecker_mat_regul(lam,N,d):\n",
    "\n",
    "    Sigma_Kron = pn.linops.Kronecker(\n",
    "        A = (lam) * np.eye(N,N),\n",
    "        B = np.eye(d,d)\n",
    "        )    # (dF x dF)\n",
    "    return Sigma_Kron\n",
    "\n",
    "\n",
    "def S_star_operator_for_cov(XK, X, k, N, h ):\n",
    "\n",
    "    S_star =   sum(k @ X[i].T @ XK[i,:,:] for i in range(N)) * (h / N)\n",
    "    \n",
    "    return S_star"
   ]
  },
  {
   "cell_type": "code",
   "execution_count": 22,
   "metadata": {},
   "outputs": [],
   "source": [
    "def power_law_samples(N, L, alpha):\n",
    "    \"\"\"\n",
    "    Generates N samples drawn from a power law probability distribution on the integers\n",
    "    with exponent alpha.\n",
    "    \n",
    "    Args:\n",
    "    - N: an integer specifying the number of samples to generate\n",
    "    -L: the samples are drawn in the interval [1,L+1]\n",
    "    - alpha: a positive float specifying the exponent of the power law\n",
    "    \n",
    "    Returns:\n",
    "    - A numpy array of N integers drawn from the power law distribution\n",
    "    \"\"\"\n",
    "    # Define the power law probability density function\n",
    "    def p(x):\n",
    "        return 1.0 / (x**alpha)\n",
    "    \n",
    "    # Define the normalization constant\n",
    "    Z = sum([p(l) for l in range(1, L+1)])\n",
    "    \n",
    "    # Generate the samples\n",
    "    samples = []\n",
    "    while len(samples) < N:\n",
    "        # Choose a random integer in the range [1, L+1] with probability proportional to p(l)\n",
    "        n = np.random.choice(range(1, L+1), p=[p(l)/Z for l in range(1, L+1)])\n",
    "        samples.append(n)\n",
    "    \n",
    "    return np.array(samples)"
   ]
  },
  {
   "cell_type": "code",
   "execution_count": 23,
   "metadata": {},
   "outputs": [],
   "source": [
    "#Ground truth functions \n",
    "\n",
    "def sin_polinom(t,alpha,M):\n",
    "    return sum((np.sin(2*np.pi*j*t) / (j**alpha)) for j in range(1,M+1))\n",
    "\n",
    "#CHOOSE number of input functions\n",
    "N = 20   # number of samples\n",
    "num_exp = 5 #number of times for each N\n",
    "\n",
    "d = 100 # grid points\n",
    "\n",
    "t_left = 0\n",
    "t_right = 1\n",
    "t = np.linspace(t_left,t_right,d)\n",
    "\n",
    "#CHOOSE ground truth function and obs. noise         y_i = x_i * true_w + noise\n",
    "beta = .4\n",
    "sum_until = 90\n",
    "true_w = sin_polinom(t,beta,sum_until)                        \n",
    "\n",
    "noise = 0.05\n",
    "\n",
    "L_until = sum_until\n",
    "samples_decay = .8\n",
    "\n",
    "delta = 0.076\n",
    "alpha = .7 * (beta / samples_decay)\n"
   ]
  },
  {
   "cell_type": "code",
   "execution_count": 24,
   "metadata": {},
   "outputs": [
    {
     "name": "stderr",
     "output_type": "stream",
     "text": [
      "/tmp/ipykernel_66898/1722745002.py:8: DeprecationWarning: Conversion of an array with ndim > 0 to a scalar is deprecated, and will error in future. Ensure you extract a single element from your array before performing this operation. (Deprecated NumPy 1.25.)\n",
      "  [[np.float64(f(a[i], b[j])) for j in range(b.size)]\n"
     ]
    }
   ],
   "source": [
    "#kernel\n",
    "def Dirichlet(t,s,p):\n",
    "    return (2*p + 1)* ( np.sinc( (2*p + 1) * (t-s)  ) / np.sinc(t-s) )\n",
    "\n",
    "\n",
    "def kernel_fun(f):\n",
    "    return lambda a, b: np.array(\n",
    "        [[np.float64(f(a[i], b[j])) for j in range(b.size)]\n",
    "         for i in range(a.size)]\n",
    "    )\n",
    "\n",
    "p = sum_until\n",
    "\n",
    "k = kernel_fun(lambda a, b: Dirichlet(a,b,p))\n",
    "k0 = k(t[:,None], t[:,None])\n",
    "\n",
    "m = np.zeros((len(t),))"
   ]
  },
  {
   "cell_type": "code",
   "execution_count": 25,
   "metadata": {},
   "outputs": [],
   "source": [
    "#prepare error arrays\n",
    "error_sampmean = np.zeros(N)\n",
    "error_sampstd = np.zeros(N)\n",
    "error_logmea = np.zeros(N)\n",
    "error_logstd = np.zeros(N)"
   ]
  },
  {
   "cell_type": "code",
   "execution_count": 26,
   "metadata": {},
   "outputs": [],
   "source": [
    "#Inference and compute L2 errors\n",
    "for n in range(1,N+1):\n",
    "    \n",
    "    error_of_exper = np.zeros(num_exp)\n",
    "    \n",
    "    for j in range(0,num_exp):\n",
    "    \n",
    "\n",
    "        #Localized in frequency\n",
    "        #random vector for frequencies\n",
    "        #L = power_law_samples(n, L_until, samples_decay)\n",
    "        #X =  np.array([ np.cos(l*t*2*np.pi) + 1j*np.sin(l*t*2*np.pi)  for l in L]).T\n",
    "        \n",
    "         #Localized in time\n",
    "        L = np.random.normal(.5,.2,n)\n",
    "\n",
    "        X = np.array([np.where(((t-l) <= 2*delta) & ((t-l)>=0), 1, 0) for l in L]).T / (2*delta)\n",
    "\n",
    "\n",
    "        X_operators = np.zeros((n,d,d))    # Input operators\n",
    "        for i in range(0,n):\n",
    "            X_operators[i,:,:] =circulant(X[:,i])   \n",
    "\n",
    "        #Output data matrix \n",
    "        Y = np.zeros((d,n))   #noisy \n",
    "        for i in range(0,n):\n",
    "            Y[:,i] = np.real(np.fft.ifft(np.fft.fft(true_w)*np.fft.fft(X[:,i]))) +  noise  * np.random.normal(0,1,d) \n",
    "\n",
    "#         print(L)\n",
    "\n",
    "        lamb =  1e-4 * (n**(-(alpha+2)**(-1)) )\n",
    "        SS_star_mat = S_S_star_matrix(Y = Y, X = X_operators, ker_mat = k0, t_right = t_right, t_left = t_left, N = n, d = d)\n",
    "        lam_kron_mat = Kronecker_mat_regul(lam = lamb, N=n, d=d)\n",
    "        # Inference  \n",
    "        G = SS_star_mat + lam_kron_mat\n",
    "        GY = G.inv() @ Y.T.reshape(d*n,) #np.linalg.solve(G, Y.T.reshape(d*N,))   \n",
    "        GY = GY.reshape(n,d).T\n",
    "        w = S_star_operator(GY, X = X_operators, ker_mat = k0, t_right = t_right, t_left = t_left, N = n, d = d)\n",
    "\n",
    "        error_of_exper[j] = (np.square(w - true_w)).sum() \n",
    "    \n",
    "    error_sampmean[n-1] = np.mean(error_of_exper)     #error_of_exp.sum() / num_exp\n",
    "    error_sampstd[n-1] = np.std(error_of_exper)        #np.sqrt((np.square(error_of_exp - error_sampmean[n-1] )).sum() / (num_exp-1))\n",
    "    error_logmea[n-1] = np.mean(np.log(error_of_exper))\n",
    "    error_logstd[n-1] = np.std(np.log(error_of_exper))"
   ]
  },
  {
   "cell_type": "code",
   "execution_count": 39,
   "metadata": {},
   "outputs": [
    {
     "data": {
      "text/plain": [
       "Text(0, 0.5, 'Error \\\\   $ \\\\parallel \\\\tilde{w} - w^* \\\\parallel_{L^2} ^2$')"
      ]
     },
     "execution_count": 39,
     "metadata": {},
     "output_type": "execute_result"
    },
    {
     "data": {
      "image/png": "[encoded data removed]",
      "text/plain": [
       "<Figure size 812.5x502.153 with 1 Axes>"
      ]
     },
     "metadata": {},
     "output_type": "display_data"
    }
   ],
   "source": [
    "from tueplots import  bundles\n",
    "plt.rcParams.update({\"figure.dpi\": 250})\n",
    "#define colors\n",
    "red = np.array([141.0, 45.0, 57.0]) / 255.0\n",
    "dark = np.array([51.0, 51.0, 51.0]) / 255.0\n",
    "index = np.arange(1,N+1)\n",
    "\n",
    "plt.rcParams.update(bundles.aistats2023())\n",
    "fig, ax = plt.subplots(1,  )\n",
    "\n",
    "ax.plot(index,error_sampmean,\"o--\",markersize=4.3, color=dark, alpha =.9,linewidth = 2.3)\n",
    "ax.errorbar(index, error_sampmean, yerr =error_sampstd, color=dark, fmt='o', alpha=.3, capsize=2.5,ms=2)\n",
    "\n",
    "\n",
    "# ax.set_yscale('log')\n",
    "ax.set_xlabel('N')\n",
    "ax.set_xticks(index[1::5])\n",
    "ax.set_ylabel(r'Error \\   $ \\parallel \\tilde{w} - w^* \\parallel_{L^2} ^2$')\n",
    "# ax.legend()\n",
    "    \n"
   ]
  },
  {
   "cell_type": "code",
   "execution_count": 35,
   "metadata": {},
   "outputs": [
    {
     "data": {
      "text/plain": [
       "array([ 1,  2,  3,  4,  5,  6,  7,  8,  9, 10, 11, 12, 13, 14, 15, 16, 17,\n",
       "       18, 19, 20])"
      ]
     },
     "execution_count": 35,
     "metadata": {},
     "output_type": "execute_result"
    }
   ],
   "source": [
    "index"
   ]
  }
 ],
 "metadata": {
  "kernelspec": {
   "display_name": "conv",
   "language": "python",
   "name": "python3"
  },
  "language_info": {
   "codemirror_mode": {
    "name": "ipython",
    "version": 3
   },
   "file_extension": ".py",
   "mimetype": "text/x-python",
   "name": "python",
   "nbconvert_exporter": "python",
   "pygments_lexer": "ipython3",
   "version": "3.11.5"
  },
  "orig_nbformat": 4
 },
 "nbformat": 4,
 "nbformat_minor": 2
}
