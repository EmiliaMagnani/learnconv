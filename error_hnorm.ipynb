{
 "cells": [
  {
   "cell_type": "code",
   "execution_count": 1,
   "metadata": {},
   "outputs": [],
   "source": [
    "import numpy as np"
   ]
  },
  {
   "cell_type": "code",
   "execution_count": 2,
   "metadata": {},
   "outputs": [],
   "source": [
    "def fourier_coeff(f_eval,  T):\n",
    "    return np.fft.fft(f_eval, axis=0) * T / len(f_eval)"
   ]
  },
  {
   "cell_type": "code",
   "execution_count": null,
   "metadata": {},
   "outputs": [],
   "source": [
    "N = 20   # number of input functions n= 1, 2, ..., N\n",
    "num_exp = 5 #number of times for each N (for avergaing error)\n",
    "\n",
    "\n",
    "d = 2**14 # grid points\n",
    "\n",
    "t_left = -.5\n",
    "t_right = .5\n",
    "\n",
    "T = t_right - t_left\n",
    "\n",
    "t = np.linspace(t_left,t_right,d)\n",
    "noise = .05\n"
   ]
  },
  {
   "cell_type": "code",
   "execution_count": null,
   "metadata": {},
   "outputs": [],
   "source": [
    "beta = .7\n",
    "gamma =  .1\n",
    "eta = .1\n",
    "alpha_sup = (2*beta -1 - gamma) / 2*(gamma + eta)\n",
    "print(\"alpha <\" , alpha_sup)\n",
    "alpha = .9 * alpha_sup\n",
    "\n",
    "# lamb =  N ** (-  1  / (2* alpha + 2)) # regularization parameter"
   ]
  },
  {
   "cell_type": "code",
   "execution_count": null,
   "metadata": {},
   "outputs": [],
   "source": [
    "def sin_polin(t,alpha,M):\n",
    "    return sum((2* np.sin(2*j*np.pi*t) / (j**alpha)) for j in range(1,M+2))\n",
    "\n",
    "def fourier_expon(t,alpha,M):\n",
    "    return sum((np.exp(1j*2*k*np.pi*t) / (k**alpha)) for k in range(1,M+2)) + sum((np.exp(1j*2*k*np.pi*t) / (k**alpha)) for k in range(-M,0))\n",
    "\n",
    "\n",
    "\n",
    "#CHOOSE ground truth function and obs. noise         y_i = x_i * true_w + noise\n",
    "sum_until = 30  # index M of truncation of the fourier series\n",
    "true_w = sin_polin(t,beta,sum_until)                        \n",
    "\n",
    "##fourier coefficients of w_true\n",
    "true_w_fourier = fourier_coeff(true_w, T)  # normalized by the number of grid points\n",
    "\n",
    "#for time-loc inputs\n",
    "delta = 0.076\n",
    "\n",
    "#for freq-loc inputs\n",
    "L_max = sum_until\n"
   ]
  },
  {
   "cell_type": "code",
   "execution_count": null,
   "metadata": {},
   "outputs": [],
   "source": [
    "#To draw samples from the distribution rho_l = l^-beta\n",
    "\n",
    "def power_law_samples(N, L, eta):\n",
    "    \"\"\"\n",
    "    Generates N samples drawn from a power law probability distribution on the integers\n",
    "    with exponent eta.\n",
    "    \n",
    "    Args:\n",
    "    - N: an integer specifying the number of samples to generate\n",
    "    -L: the samples are drawn in the interval [1,L+1]\n",
    "    - eta: a positive float specifying the exponent of the power law\n",
    "    \n",
    "    Returns:\n",
    "    - A numpy array of N integers drawn from the power law distribution\n",
    "    \"\"\"\n",
    "    # Define the power law probability density function\n",
    "    def p(x):\n",
    "        return 1.0 / (x**eta)\n",
    "    \n",
    "    # Define the normalization constant\n",
    "    Z = sum([p(l) for l in range(1, L+1)])\n",
    "    \n",
    "    # Generate the samples\n",
    "    samples = []\n",
    "    while len(samples) < N:\n",
    "        # Choose a random integer in the range [1, L+1] with probability proportional to p(l)\n",
    "        n = np.random.choice(range(1, L+1), p=[p(l)/Z for l in range(1, L+1)])\n",
    "        samples.append(n)\n",
    "    \n",
    "    return np.array(samples)"
   ]
  },
  {
   "cell_type": "code",
   "execution_count": null,
   "metadata": {},
   "outputs": [],
   "source": [
    "#kernel coefficients\n",
    "\n",
    "kernel_coeff = np.zeros(t.size, dtype=complex)\n",
    "kernel_coeff[0] = 1\n",
    "for k in range(1,t.size):\n",
    "    kernel_coeff[k] = k**(-gamma) "
   ]
  },
  {
   "cell_type": "code",
   "execution_count": null,
   "metadata": {},
   "outputs": [],
   "source": []
  }
 ],
 "metadata": {
  "kernelspec": {
   "display_name": "conv",
   "language": "python",
   "name": "python3"
  },
  "language_info": {
   "codemirror_mode": {
    "name": "ipython",
    "version": 3
   },
   "file_extension": ".py",
   "mimetype": "text/x-python",
   "name": "python",
   "nbconvert_exporter": "python",
   "pygments_lexer": "ipython3",
   "version": "3.11.5"
  }
 },
 "nbformat": 4,
 "nbformat_minor": 2
}
